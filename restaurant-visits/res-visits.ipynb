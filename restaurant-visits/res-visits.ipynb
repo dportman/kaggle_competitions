{
 "cells": [
  {
   "cell_type": "code",
   "execution_count": 1,
   "metadata": {},
   "outputs": [
    {
     "name": "stdout",
     "output_type": "stream",
     "text": [
      "Once deleted, variables cannot be recovered. Proceed (y/[n])? y\n"
     ]
    }
   ],
   "source": [
    "%reset"
   ]
  },
  {
   "cell_type": "code",
   "execution_count": 1,
   "metadata": {
    "collapsed": true
   },
   "outputs": [],
   "source": [
    "import pandas as pd\n",
    "import numpy as np\n",
    "\n",
    "air_reserve = pd.read_csv('./input_data/air_reserve.csv')\n",
    "air_store_info = pd.read_csv('./input_data/air_store_info.csv')\n",
    "air_visit_data = pd.read_csv('./input_data/air_visit_data.csv')\n",
    "\n",
    "hpg_reserve = pd.read_csv('./input_data/hpg_reserve.csv')\n",
    "hpg_store_info = pd.read_csv('./input_data/hpg_store_info.csv')\n",
    "\n",
    "date_info = pd.read_csv('./input_data/date_info.csv')\n",
    "store_id_relation = pd.read_csv('./input_data/store_id_relation.csv')"
   ]
  },
  {
   "cell_type": "code",
   "execution_count": 9,
   "metadata": {},
   "outputs": [
    {
     "name": "stdout",
     "output_type": "stream",
     "text": [
      "(252108, 9)\n"
     ]
    }
   ],
   "source": [
    "air_reserve['visit_date'] = air_reserve['visit_datetime'].map(lambda date: str(date)[0:10])\n",
    "air_reserve['reserve_date'] = air_reserve['reserve_datetime'].map(lambda date: str(date)[0:10])\n",
    "air_reserve['reserve_delay'] = (pd.to_datetime(air_reserve['visit_datetime']) - pd.to_datetime(air_reserve['reserve_datetime']))\n",
    "air_reserve['reserve_delay_days'] = air_reserve['reserve_delay'].map(lambda timedelta: timedelta.days)\n",
    "\n",
    "air_total_reservations = air_reserve. \\\n",
    "                         groupby(['air_store_id', 'visit_date'], as_index=False)['reserve_visitors']. \\\n",
    "                         sum()\n",
    "air_mean_delay = air_reserve. \\\n",
    "                 groupby(['air_store_id', 'visit_date'], as_index=False)['reserve_delay_days']. \\\n",
    "                 mean()\n",
    "air_df = air_visit_data.merge(air_total_reservations, on=['air_store_id', 'visit_date'], how='left')\n",
    "\n",
    "air_df = air_df.merge(air_mean_delay, on=['air_store_id', 'visit_date'], how='left')\n",
    "air_df = air_df.merge(air_store_info, on=['air_store_id'], how='left')\n",
    "air_df = air_df.sort_values(['air_store_id', 'visit_date'])\n",
    "air_df = air_df.fillna(0.0)\n",
    "print(air_df.shape)\n",
    "air_df.head(5)\n",
    "#air_df.to_csv('./air_df.csv', index=False)"
   ]
  },
  {
   "cell_type": "code",
   "execution_count": 10,
   "metadata": {},
   "outputs": [
    {
     "name": "stdout",
     "output_type": "stream",
     "text": [
      "(561109, 8)\n"
     ]
    }
   ],
   "source": [
    "hpg_reserve['visit_date'] = hpg_reserve['visit_datetime'].map(lambda date: str(date)[0:10])\n",
    "hpg_reserve['reserve_date'] = hpg_reserve['reserve_datetime'].map(lambda date: str(date)[0:10])\n",
    "hpg_reserve['reserve_delay'] = (pd.to_datetime(hpg_reserve['visit_datetime']) - pd.to_datetime(hpg_reserve['reserve_datetime']))\n",
    "hpg_reserve['reserve_delay_days'] = hpg_reserve['reserve_delay'].map(lambda timedelta: timedelta.days)\n",
    "\n",
    "hpg_mean_delay = hpg_reserve.groupby(['hpg_store_id', 'visit_date'], as_index=False)['reserve_delay_days'].mean()\n",
    "hpg_total_reservations = hpg_reserve.groupby(['hpg_store_id', 'visit_date'], as_index=False)['reserve_visitors'].sum()\n",
    "\n",
    "hpg_df = hpg_total_reservations.merge(hpg_store_info, on = 'hpg_store_id', how = 'inner')\n",
    "hpg_df = hpg_df.merge(hpg_mean_delay, on = ['hpg_store_id', 'visit_date'], how = 'left')\n",
    "hpg_df = hpg_df.sort_values(['hpg_store_id', 'visit_date'])\n",
    "print(hpg_df.shape)\n",
    "hpg_df.head(5)\n",
    "#hpg_df.to_csv('./hpg_df.csv', index=False)"
   ]
  },
  {
   "cell_type": "code",
   "execution_count": 4,
   "metadata": {
    "collapsed": true
   },
   "outputs": [],
   "source": [
    "df_sample_submission = pd.read_csv('./sample_submission.csv')\n",
    "df_sample_submission['store_id'] = df_sample_submission.id.str[0:20]\n",
    "air_store_ids = df_sample_submission['store_id'].unique()"
   ]
  },
  {
   "cell_type": "code",
   "execution_count": 54,
   "metadata": {
    "collapsed": true
   },
   "outputs": [],
   "source": [
    "from statsmodels.tsa.arima_model import ARIMA\n",
    "from tqdm import tqdm\n",
    "import datetime\n",
    "\n",
    "import matplotlib.pyplot as plt\n",
    "%matplotlib inline\n",
    "\n",
    "\n",
    "training_start = datetime.date(2016, 1, 1)\n",
    "training_end = datetime.date(2017, 3, 31)\n",
    "test_start = datetime.date(2017, 4, 1)\n",
    "test_end = datetime.date(2017, 4, 22)\n",
    "\n",
    "\n",
    "def makePredictedActualPlots(df_accuracy, air_store_ids):\n",
    "\n",
    "    for store_id in [air_store_ids[0]]:\n",
    "        df = df_accuracy[df_accuracy['air_store_id'] == store_id]\n",
    "        pred = df['visitors_x']\n",
    "        actual = df['visitors_y']\n",
    "        dates = df['visit_date']\n",
    "        plt.figure()\n",
    "        plt.title(store_id)\n",
    "        plt.plot(dates, pred, label='predicted')\n",
    "        plt.plot(dates, actual, label='actual')\n",
    "        plt.legend()\n",
    "\n",
    "\n",
    "def getDataFrameByDates(df, start, end):\n",
    "    return df.loc[(df['visit_date'] >= start.strftime('%Y-%m-%d')) & (df['visit_date'] <= end.strftime('%Y-%m-%d'))]\n",
    "\n",
    "train_df = getDataFrameByDates(air_df, training_start, training_end)\n",
    "test_df = getDataFrameByDates(air_df, test_start, test_end)\n",
    "\n",
    "def predictDates(input_df, test_start, air_store_ids, days_to_predict = 39, field = 'visitors'):\n",
    " \n",
    "    df_predicted = pd.DataFrame({'id': [], 'air_store_id':[], 'visit_date':[], 'visitors': [] })\n",
    "    prediction_dates = [(test_start + datetime.timedelta(days=x)).strftime('%Y-%m-%d') \\\n",
    "                        for x in range(0, days_to_predict)]\n",
    "\n",
    "    for store_id in tqdm(air_store_ids):\n",
    "        df = input_df[input_df['air_store_id'] == store_id]\n",
    "        dates = list(df['visit_date'])\n",
    "        visitors = [float(i) for i in list(df[field])]\n",
    "        model = ARIMA(endog = visitors, order=(4, 1, 0))\n",
    "        model_fit = model.fit(disp=0)\n",
    "        forecast_visits = model_fit.forecast(steps = days_to_predict)\n",
    "        forecast_visits = forecast_visits[0]\n",
    "        store_predictions = [\"{}_{}\".format(a_, b_) for a_, b_ in zip(list([store_id] * (days_to_predict + 1)), prediction_dates)]\n",
    "  \n",
    "        df_predicted_temp = pd.DataFrame({'id': store_predictions,\n",
    "                                     'air_store_id': store_id,\n",
    "                                     'visit_date': prediction_dates,\n",
    "                                     'visitors': forecast_visits\n",
    "                                    })\n",
    "        df_predicted = df_predicted.append(df_predicted_temp)\n",
    "    return df_predicted\n",
    "\n",
    "#df_predicted = predictDates(train_df, test_start, air_store_ids, 7, field = 'visitors')"
   ]
  },
  {
   "cell_type": "code",
   "execution_count": 55,
   "metadata": {},
   "outputs": [
    {
     "name": "stderr",
     "output_type": "stream",
     "text": [
      "100%|██████████| 1/1 [00:00<00:00,  9.44it/s]\n",
      "100%|██████████| 1/1 [00:00<00:00, 17.93it/s]\n",
      "100%|██████████| 1/1 [00:00<00:00, 10.27it/s]\n",
      "100%|██████████| 1/1 [00:00<00:00, 12.53it/s]\n",
      "100%|██████████| 1/1 [00:00<00:00, 13.55it/s]\n",
      "100%|██████████| 1/1 [00:00<00:00, 10.36it/s]\n",
      "100%|██████████| 1/1 [00:00<00:00, 10.40it/s]\n",
      "100%|██████████| 1/1 [00:00<00:00, 10.08it/s]\n",
      "100%|██████████| 1/1 [00:00<00:00, 10.42it/s]\n",
      "100%|██████████| 1/1 [00:00<00:00, 11.32it/s]\n"
     ]
    },
    {
     "data": {
      "text/plain": [
       "0.53282976138757554"
      ]
     },
     "execution_count": 55,
     "metadata": {},
     "output_type": "execute_result"
    }
   ],
   "source": [
    "rmlse_dict = {}\n",
    "for store_id in range(0, 10):\n",
    "    store_df = train_df.loc[train_df['air_store_id'] == air_store_ids[store_id]]\n",
    "    df_predicted = predictDates(store_df, test_start, [air_store_ids[store_id]], 7, field = 'visitors')\n",
    "    df_accuracy = df_predicted.merge(test_df, on=['air_store_id', 'visit_date'], how = 'left')\n",
    "    #makePredictedActualPlots(df_accuracy, [air_store_ids[store_id]])\n",
    "    rmlse_acc = RMLSE(df_accuracy['visitors_x'], df_accuracy['visitors_y'])\n",
    "    #print(str(store_id) + \" : \" + str(rmlse_acc))\n",
    "    rmlse_dict[store_id] = rmlse_acc\n",
    "np.mean(list(rmlse_dict.values()))"
   ]
  },
  {
   "cell_type": "code",
   "execution_count": 34,
   "metadata": {
    "collapsed": true
   },
   "outputs": [],
   "source": [
    "def RMLSE(pred, actual):\n",
    "    n = len(pred)\n",
    "    return np.sqrt( (1/n) * np.sum( (np.log1p(pred) - np.log1p(actual) )**2 ) )"
   ]
  },
  {
   "cell_type": "code",
   "execution_count": 36,
   "metadata": {},
   "outputs": [
    {
     "data": {
      "text/plain": [
       "0.53217726247098052"
      ]
     },
     "execution_count": 36,
     "metadata": {},
     "output_type": "execute_result"
    }
   ],
   "source": []
  },
  {
   "cell_type": "code",
   "execution_count": null,
   "metadata": {
    "collapsed": true
   },
   "outputs": [],
   "source": []
  }
 ],
 "metadata": {
  "kernelspec": {
   "display_name": "Python 3",
   "language": "python",
   "name": "python3"
  },
  "language_info": {
   "codemirror_mode": {
    "name": "ipython",
    "version": 3
   },
   "file_extension": ".py",
   "mimetype": "text/x-python",
   "name": "python",
   "nbconvert_exporter": "python",
   "pygments_lexer": "ipython3",
   "version": "3.6.3"
  }
 },
 "nbformat": 4,
 "nbformat_minor": 2
}
