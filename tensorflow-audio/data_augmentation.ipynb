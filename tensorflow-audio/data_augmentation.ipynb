{
 "cells": [
  {
   "cell_type": "code",
   "execution_count": 57,
   "metadata": {
    "_cell_guid": "c9b84c36-51d1-420d-bcb4-e3ba21e329ae",
    "_uuid": "0cec4d047a2690ce89d616727a99d63c599932df"
   },
   "outputs": [
    {
     "name": "stdout",
     "output_type": "stream",
     "text": [
      "There are 347538 train and 6798 val samples\n"
     ]
    }
   ],
   "source": [
    "DATADIR = './' # unzipped train and test data\n",
    "OUTDIR = './model-output' # just a random name\n",
    "# Data Loading\n",
    "import os\n",
    "import re\n",
    "from glob import glob\n",
    "\n",
    "\n",
    "POSSIBLE_LABELS = 'yes no up down left right on off stop go silence unknown'.split()\n",
    "id2name = {i: name for i, name in enumerate(POSSIBLE_LABELS)}\n",
    "name2id = {name: i for i, name in id2name.items()}\n",
    "\n",
    "import os\n",
    "from os.path import isdir, join\n",
    "from pathlib import Path\n",
    "import pandas as pd\n",
    "\n",
    "# Math\n",
    "import numpy as np\n",
    "from scipy.fftpack import fft\n",
    "from scipy import signal\n",
    "from scipy.io import wavfile\n",
    "\n",
    "# Visualization\n",
    "import matplotlib.pyplot as plt\n",
    "import seaborn as sns\n",
    "import IPython.display as ipd\n",
    "\n",
    "def load_data(data_dir):\n",
    "    \"\"\" Return 2 lists of tuples:\n",
    "    [(class_id, user_id, path), ...] for train\n",
    "    [(class_id, user_id, path), ...] for validation\n",
    "    \"\"\"\n",
    "    # Just a simple regexp for paths with three groups:\n",
    "    # prefix, label, user_id\n",
    "    pattern = re.compile(\"(.+\\/)?(\\w+)\\/([^_]+)_.+wav\")\n",
    "    all_files = glob(os.path.join(data_dir, 'train/audio/*/*wav'))\n",
    "\n",
    "    with open(os.path.join(data_dir, 'train/validation_list.txt'), 'r') as fin:\n",
    "        validation_files = fin.readlines()\n",
    "    valset = set()\n",
    "    for entry in validation_files:\n",
    "        r = re.match(pattern, entry)\n",
    "        if r:\n",
    "            valset.add(r.group(3))\n",
    "\n",
    "    possible = set(POSSIBLE_LABELS)\n",
    "    train, val = [], []\n",
    "    for entry in all_files:\n",
    "        r = re.match(pattern, entry)\n",
    "        if r:\n",
    "            label, uid = r.group(2), r.group(3)\n",
    "            if label == '_background_noise_':\n",
    "                label = 'silence'\n",
    "            if label not in possible:\n",
    "                label = 'unknown'\n",
    "\n",
    "            label_id = name2id[label]\n",
    "\n",
    "            sample = (label_id, uid, entry)\n",
    "            if uid in valset:\n",
    "                val.append(sample)\n",
    "            else:\n",
    "                train.append(sample)\n",
    "\n",
    "    print('There are {} train and {} val samples'.format(len(train), len(val)))\n",
    "    return train, val\n",
    "\n",
    "trainset, valset = load_data(DATADIR)"
   ]
  },
  {
   "cell_type": "code",
   "execution_count": 51,
   "metadata": {},
   "outputs": [
    {
     "name": "stderr",
     "output_type": "stream",
     "text": [
      "/home/dannyp/Installed/anaconda3/lib/python3.6/site-packages/scipy/io/wavfile.py:273: WavFileWarning: Chunk (non-data) not understood, skipping it.\n",
      "  WavFileWarning)\n",
      "100%|██████████| 57929/57929 [01:38<00:00, 585.26it/s]\n"
     ]
    }
   ],
   "source": [
    "from tqdm import tqdm\n",
    "\n",
    "trainset_df = pd.DataFrame(trainset)\n",
    "input_dir = '/home/dannyp/repos/tensorflow-samples'\n",
    "noise_file = '/train/audio/_background_noise_/exercise_bike.wav'\n",
    "noise_type = 'bike'\n",
    "noise_sample_rate, noise_wav = wavfile.read(input_dir + noise_file)\n",
    "out_dir = '/home/dannyp/repos/tensorflow-samples/train_augmented/audio/'\n",
    "noise_sample_rate, noise_wav = wavfile.read(input_dir + noise_file)\n",
    "\n",
    "def augment_wav (wav, noise_wav, noise_param):\n",
    "    L = wav.shape[0] \n",
    "    L_noise = len(noise_wav)\n",
    "    if L_noise > L:\n",
    "        beg = np.random.randint(0, len(noise_wav) - L)\n",
    "        noise_mask=noise_wav[beg: beg + L]\n",
    "        augmented_wav = (1 - noise_param) * wav + (noise_param * noise_mask)\n",
    "        return augmented_wav\n",
    "    else:\n",
    "        return wav\n",
    "\n",
    "for row in tqdm(range(len(trainset))):\n",
    "\n",
    "    train_file = trainset_df.loc[row][2]\n",
    "    file_id = trainset_df.loc[row][2][-21:-4]\n",
    "    label_id = trainset_df.loc[row][2][14:-22]\n",
    "    if ('background' in label_id):\n",
    "        continue\n",
    "    sample_rate, wav = wavfile.read(input_dir + train_file[1:])\n",
    "    noise_param = 0.02\n",
    "    augmented_wav = augment_wav(wav, noise_wav, noise_param)\n",
    "    wavfile.write(filename= str(out_dir + label_id + '/' + file_id + '_' + noise_type + '.wav'),\n",
    "                  rate=sample_rate,\n",
    "                  data = augmented_wav)"
   ]
  },
  {
   "cell_type": "code",
   "execution_count": 46,
   "metadata": {},
   "outputs": [
    {
     "data": {
      "text/plain": [
       "[<matplotlib.lines.Line2D at 0x7f8da06c25c0>]"
      ]
     },
     "execution_count": 46,
     "metadata": {},
     "output_type": "execute_result"
    },
    {
     "data": {
      "image/png": "[encoded data removed]",
      "text/plain": [
       "<matplotlib.figure.Figure at 0x7f8da4ab7eb8>"
      ]
     },
     "metadata": {},
     "output_type": "display_data"
    }
   ],
   "source": [
    "%matplotlib inline\n",
    "row = 100\n",
    "\n",
    "train_file = trainset_df.loc[row][2]\n",
    "file_id = trainset_df.loc[row][2][-21:-4]\n",
    "label_id = trainset_df.loc[row][2][14:-22]\n",
    "sample_rate, wav = wavfile.read(input_dir + train_file[1:])\n",
    "noise_param = 0.02\n",
    "augmented_wav = augment_wav(wav, noise_wav, noise_param)\n",
    "wavfile.write(filename= str(out_dir + label_id + '/' + file_id + '_' + noise_type + '.wav'),\n",
    "              rate=sample_rate,\n",
    "              data = augmented_wav)\n",
    "\n",
    "plt.plot(augmented_wav)"
   ]
  },
  {
   "cell_type": "code",
   "execution_count": null,
   "metadata": {
    "collapsed": true
   },
   "outputs": [],
   "source": []
  }
 ],
 "metadata": {
  "kernelspec": {
   "display_name": "Python 3",
   "language": "python",
   "name": "python3"
  },
  "language_info": {
   "codemirror_mode": {
    "name": "ipython",
    "version": 3
   },
   "file_extension": ".py",
   "mimetype": "text/x-python",
   "name": "python",
   "nbconvert_exporter": "python",
   "pygments_lexer": "ipython3",
   "version": "3.6.3"
  }
 },
 "nbformat": 4,
 "nbformat_minor": 1
}
