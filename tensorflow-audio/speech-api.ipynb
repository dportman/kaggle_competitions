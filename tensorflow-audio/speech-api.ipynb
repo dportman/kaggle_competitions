{
 "cells": [
  {
   "cell_type": "code",
   "execution_count": 16,
   "metadata": {},
   "outputs": [
    {
     "data": {
      "text/html": [
       "\n",
       "          <script src=\"/static/components/requirejs/require.js\"></script>\n",
       "          <script>\n",
       "            requirejs.config({\n",
       "              paths: {\n",
       "                base: '/static/base',\n",
       "              },\n",
       "            });\n",
       "          </script>\n",
       "          "
      ],
      "text/plain": [
       "<IPython.core.display.HTML object>"
      ]
     },
     "metadata": {},
     "output_type": "display_data"
    }
   ],
   "source": [
    "import time\n",
    "import pandas as pd\n",
    "\n",
    "def main(): \n",
    "\n",
    "    transcriptions = {}\n",
    "    ep_seconds = 4801\n",
    "    chunk_seconds = 15\n",
    "\n",
    "    for i in range(0, ep_seconds, chunk_seconds): \n",
    "        i_padded = '{:0>4}'.format(i)\n",
    "        print(i_padded)\n",
    "        transcriptions[i_padded] = transcribe_gcs('gs://roderick/to_clerd/rotl_0242_{}.flac'.format(i_padded))\n",
    "\n",
    "    tsc = pd.Series(transcriptions, name='transcription')\n",
    "    tsc.to_csv('transcription.csv', header=True)\n",
    "\n",
    "\n",
    "def transcribe_gcs(gcs_uri):\n",
    "    \"\"\"Asynchronously transcribes the audio file specified by the gcs_uri.\"\"\"\n",
    "\n",
    "    from google.cloud import speech\n",
    "\n",
    "    speech_client = speech.Client()\n",
    "\n",
    "    audio_sample = speech_client.sample(\n",
    "        content=None,\n",
    "        source_uri=gcs_uri,\n",
    "        encoding='LINEAR16',\n",
    "        sample_rate_hertz=16000\n",
    "        )\n",
    "    \n",
    "    operation = audio_sample.long_running_recognize('en-US')\n",
    "\n",
    "    retry_count = 5\n",
    "    while retry_count > 0 and not operation.complete:\n",
    "        retry_count -= 1\n",
    "        time.sleep(2)\n",
    "        operation.poll()\n",
    "    \n",
    "    if not operation.complete:\n",
    "        print('Operation not complete and retry limit reached.')\n",
    "        return\n",
    "\n",
    "    alternatives = operation.results\n",
    "    for alternative in alternatives:\n",
    "        print('Transcript: {}'.format(alternative.transcript))\n",
    "        print('Confidence: {}'.format(alternative.confidence))\n",
    "\n",
    "    return alternative.transcript"
   ]
  },
  {
   "cell_type": "code",
   "execution_count": 17,
   "metadata": {},
   "outputs": [
    {
     "data": {
      "text/html": [
       "\n",
       "          <script src=\"/static/components/requirejs/require.js\"></script>\n",
       "          <script>\n",
       "            requirejs.config({\n",
       "              paths: {\n",
       "                base: '/static/base',\n",
       "              },\n",
       "            });\n",
       "          </script>\n",
       "          "
      ],
      "text/plain": [
       "<IPython.core.display.HTML object>"
      ]
     },
     "metadata": {},
     "output_type": "display_data"
    },
    {
     "name": "stdout",
     "output_type": "stream",
     "text": [
      "Transcript: tree\n",
      "Confidence: 0.486828178167\n"
     ]
    },
    {
     "data": {
      "text/plain": [
       "u'tree'"
      ]
     },
     "execution_count": 17,
     "metadata": {},
     "output_type": "execute_result"
    }
   ],
   "source": [
    "transcribe_gcs('gs://kenshoo-lab/taxifare/0a7c2a8d_nohash_0.wav')"
   ]
  },
  {
   "cell_type": "code",
   "execution_count": 22,
   "metadata": {},
   "outputs": [
    {
     "data": {
      "text/html": [
       "\n",
       "          <script src=\"/static/components/requirejs/require.js\"></script>\n",
       "          <script>\n",
       "            requirejs.config({\n",
       "              paths: {\n",
       "                base: '/static/base',\n",
       "              },\n",
       "            });\n",
       "          </script>\n",
       "          "
      ],
      "text/plain": [
       "<IPython.core.display.HTML object>"
      ]
     },
     "metadata": {},
     "output_type": "display_data"
    },
    {
     "name": "stdout",
     "output_type": "stream",
     "text": [
      "/bin/sh: 1: 7z: not found\r\n"
     ]
    }
   ],
   "source": [
    "!7z x test.7z"
   ]
  },
  {
   "cell_type": "code",
   "execution_count": null,
   "metadata": {
    "collapsed": true
   },
   "outputs": [],
   "source": []
  }
 ],
 "metadata": {
  "kernelspec": {
   "display_name": "Python 3",
   "language": "python",
   "name": "python3"
  },
  "language_info": {
   "codemirror_mode": {
    "name": "ipython",
    "version": 3
   },
   "file_extension": ".py",
   "mimetype": "text/x-python",
   "name": "python",
   "nbconvert_exporter": "python",
   "pygments_lexer": "ipython3",
   "version": "3.6.3"
  }
 },
 "nbformat": 4,
 "nbformat_minor": 2
}
