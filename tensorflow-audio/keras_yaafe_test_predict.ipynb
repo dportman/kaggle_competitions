{
 "cells": [
  {
   "cell_type": "code",
   "execution_count": 34,
   "metadata": {
    "collapsed": true
   },
   "outputs": [],
   "source": [
    "from keras.models import load_model\n",
    "model = load_model('./yaafe/keras-087-model.h5')"
   ]
  },
  {
   "cell_type": "code",
   "execution_count": 62,
   "metadata": {
    "scrolled": true
   },
   "outputs": [
    {
     "name": "stderr",
     "output_type": "stream",
     "text": [
      "100%|██████████| 1/1 [00:00<00:00,  2.18it/s]"
     ]
    },
    {
     "name": "stdout",
     "output_type": "stream",
     "text": [
      "(538, 2925)\n"
     ]
    },
    {
     "name": "stderr",
     "output_type": "stream",
     "text": [
      "\n"
     ]
    }
   ],
   "source": [
    "from tqdm import tqdm\n",
    "import pandas as pd\n",
    "\n",
    "POSSIBLE_LABELS = 'yes no up down left right on off stop go silence unknown'.split()\n",
    "id2name = {i: name for i, name in enumerate(POSSIBLE_LABELS)}\n",
    "\n",
    "preds_total = []\n",
    "for high in tqdm(range(159000,160000,1000)): #158538\n",
    "    df_test = pd.read_csv('./yaafe/test/test_' + str(high) +'.csv')\n",
    "    filenames = df_test.pop('fname')\n",
    "    pred_df = pd.DataFrame(list(model.predict_classes(df_test)))\n",
    "    pred_df['fname'] = filenames\n",
    "    pred_df['label'] = pred_df[0].map(id2name)\n",
    "    pred_df = pred_df[['fname', 'label']]\n",
    "    pred_df.to_csv('./yaafe/predicted/test_' + str(high) +'.csv', index = False, header =False)\n",
    "    print(df_test.shape)"
   ]
  },
  {
   "cell_type": "code",
   "execution_count": 1,
   "metadata": {
    "scrolled": true
   },
   "outputs": [
    {
     "name": "stdout",
     "output_type": "stream",
     "text": [
      "/home/dannyp/repos/tensorflow-samples/yaafe/predicted\n"
     ]
    }
   ],
   "source": [
    "cd /home/dannyp/repos/tensorflow-samples/yaafe/predicted/"
   ]
  },
  {
   "cell_type": "code",
   "execution_count": 2,
   "metadata": {
    "collapsed": true
   },
   "outputs": [],
   "source": [
    "!cat * > submission.csv"
   ]
  },
  {
   "cell_type": "code",
   "execution_count": 4,
   "metadata": {
    "collapsed": true
   },
   "outputs": [],
   "source": [
    "import pandas as pd\n",
    "df = pd.read_csv('/home/dannyp/repos/tensorflow-samples/yaafe/predicted/submission.csv')\n",
    "df.columns = ['fname', 'label']\n",
    "df.to_csv('/home/dannyp/repos/tensorflow-samples/yaafe/predicted/submission.csv', index = False)"
   ]
  },
  {
   "cell_type": "code",
   "execution_count": 5,
   "metadata": {},
   "outputs": [
    {
     "name": "stdout",
     "output_type": "stream",
     "text": [
      "(158538, 2)\n",
      "(158537, 2)\n"
     ]
    }
   ],
   "source": [
    "import numpy as np\n",
    "best_submission = pd.read_csv('/home/dannyp/repos/tensorflow-samples/submissions/submission_merged_083.csv')\n",
    "df = pd.read_csv('/home/dannyp/repos/tensorflow-samples/yaafe/predicted/submission.csv')\n",
    "print(best_submission.shape)\n",
    "print(df.shape)"
   ]
  },
  {
   "cell_type": "code",
   "execution_count": null,
   "metadata": {
    "collapsed": true
   },
   "outputs": [],
   "source": []
  }
 ],
 "metadata": {
  "kernelspec": {
   "display_name": "Python 3",
   "language": "python",
   "name": "python3"
  },
  "language_info": {
   "codemirror_mode": {
    "name": "ipython",
    "version": 3
   },
   "file_extension": ".py",
   "mimetype": "text/x-python",
   "name": "python",
   "nbconvert_exporter": "python",
   "pygments_lexer": "ipython3",
   "version": "3.6.3"
  }
 },
 "nbformat": 4,
 "nbformat_minor": 1
}
